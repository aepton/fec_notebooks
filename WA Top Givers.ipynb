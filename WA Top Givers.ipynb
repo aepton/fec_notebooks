{
 "cells": [
  {
   "cell_type": "markdown",
   "metadata": {},
   "source": [
    "# Top Campaign donors in Washington State\n",
    "\n",
    "This notebook analyzes bulk data retrieved from [Open Secrets](http://www.opensecrets.org/myos/bulk.php) - specifically, donations to federal campaigns for the 2016 cycle through most of January."
   ]
  },
  {
   "cell_type": "markdown",
   "metadata": {},
   "source": [
    "Let's load the basic data and see what we've got."
   ]
  },
  {
   "cell_type": "code",
   "execution_count": 1,
   "metadata": {
    "collapsed": false
   },
   "outputs": [
    {
     "name": "stdout",
     "output_type": "stream",
     "text": [
      "[u'Cycle', u'Fectransid', u'Contribid', u'Contrib', u'Recipid', u'Orgname', u'Ultorg', u'Realcode', u'Date', u'Amount', u'Street', u'City', u'State', u'Zip', u'Recipcode', u'Type', u'CmteId', u'OtherID', u'Gender', u'Microfilm', u'Occupation', u'Employer', u'Source']\n"
     ]
    }
   ],
   "source": [
    "import agate\n",
    "\n",
    "table = agate.Table.from_csv('indivs_Washington16.csv')\n",
    "print [c.name for c in table.columns]"
   ]
  },
  {
   "cell_type": "markdown",
   "metadata": {},
   "source": [
    "Next, let's make a pivot table off of it - just contributor name, their organization, their zip code, and how much they've given (taking into account that sum entries in the data account for refunds, i.e. negative amounts)."
   ]
  },
  {
   "cell_type": "code",
   "execution_count": 2,
   "metadata": {
    "collapsed": false
   },
   "outputs": [],
   "source": [
    "pivot = table.pivot(['Contrib', 'Orgname', 'Zip'], aggregation=agate.Sum('Amount')).order_by('Sum', reverse=True)"
   ]
  },
  {
   "cell_type": "code",
   "execution_count": 3,
   "metadata": {
    "collapsed": false
   },
   "outputs": [
    {
     "name": "stdout",
     "output_type": "stream",
     "text": [
      "BALLMER, CONNIE E Partners for Our Children 98004 250000\n",
      "PUYALLUP TRIBE OF INDIANS Puyallup Tribe of Indians 98404 186100\n",
      "SCHWEITZER, BEATRIZ VALDEZ MRS Schweitzer Engineering Labs 99163 173000\n",
      "SCHWEITZER, EDMUND O DR Schweitzer Engineering Labs 99163 173000\n",
      "SCHWEITZER, BEATRIZ V Schweitzer Engineering Labs 99163 155000\n",
      "SCHWEITZER, III, EDMUND O Schweitzer Engineering Labs 99163 150000\n",
      "None Homemaker 99163 106200\n",
      "None SCHWEITZER ENGINEERING LABS 99163 106200\n",
      "SNOQUALMIE TRIBE Snoqualmie Tribe 98065 104800\n",
      "MUCKLESHOOT INDIAN TRIBE Muckleshoot Indian Tribe 98092 75700\n"
     ]
    }
   ],
   "source": [
    "for row in pivot.order_by('Sum', reverse=True).limit(10).rows:\n",
    "    print row['Contrib'], row['Orgname'], row['Zip'], row['Sum']"
   ]
  },
  {
   "cell_type": "markdown",
   "metadata": {},
   "source": [
    "Now we need to be able to see what the contributor IDs mean, so we'll ask ProPublica via [their API](https://propublica.github.io/campaign-finance-api-docs)."
   ]
  },
  {
   "cell_type": "code",
   "execution_count": 4,
   "metadata": {
    "collapsed": false
   },
   "outputs": [],
   "source": [
    "import json\n",
    "import os\n",
    "import pycurl\n",
    "from StringIO import StringIO\n",
    "\n",
    "def get_cmte_from_id(cmte_id):\n",
    "    api_key = os.getenv('PROPUBLICA_API_KEY')\n",
    "    url = 'https://api.propublica.org/campaign-finance/v1/2016/committees/%s.json' % cmte_id\n",
    "\n",
    "    buffer = StringIO()\n",
    "    c = pycurl.Curl()\n",
    "    c.setopt(c.URL, url)\n",
    "    c.setopt(c.HTTPHEADER, ['X-API-KEY: %s' % api_key])\n",
    "    c.setopt(c.WRITEDATA, buffer)\n",
    "    c.perform()\n",
    "    c.close()\n",
    "\n",
    "    body = buffer.getvalue()\n",
    "    # Body is a string in some encoding.\n",
    "    # In Python 2, we can print it without knowing what the encoding is.\n",
    "    try:\n",
    "        return json.loads(body)['results'][0]\n",
    "    except:\n",
    "        return {}"
   ]
  },
  {
   "cell_type": "markdown",
   "metadata": {},
   "source": [
    "Save this mapping to a file so we don't have to rebuild it later."
   ]
  },
  {
   "cell_type": "code",
   "execution_count": 5,
   "metadata": {
    "collapsed": false
   },
   "outputs": [
    {
     "name": "stdout",
     "output_type": "stream",
     "text": [
      "776\n"
     ]
    }
   ],
   "source": [
    "mapping = {}\n",
    "\n",
    "for cmte in table.columns['CmteId'].values_distinct():\n",
    "    mapping[cmte] = get_cmte_from_id(cmte)\n",
    "\n",
    "print len(mapping)"
   ]
  },
  {
   "cell_type": "code",
   "execution_count": 6,
   "metadata": {
    "collapsed": true
   },
   "outputs": [],
   "source": [
    "with open('mapping.json', 'w+') as fh:\n",
    "    fh.write(json.dumps(mapping))"
   ]
  },
  {
   "cell_type": "markdown",
   "metadata": {},
   "source": [
    "Now annotate the table (and save it to `contribs_with_cmtes` when we're done)."
   ]
  },
  {
   "cell_type": "code",
   "execution_count": 7,
   "metadata": {
    "collapsed": false
   },
   "outputs": [],
   "source": [
    "with_cmtes = table.compute([\n",
    "    ('CmteName', agate.Formula(agate.Text(), lambda k: mapping[k['CmteId']]['name'])),\n",
    "    ('CmteParty', agate.Formula(agate.Text(), lambda k: mapping[k['CmteId']]['party'])),\n",
    "    ('CmteAddress', agate.Formula(agate.Text(), lambda k: mapping[k['CmteId']]['address'])),\n",
    "    ('CmteCity', agate.Formula(agate.Text(), lambda k: mapping[k['CmteId']]['city'])),\n",
    "    ('CmteState', agate.Formula(agate.Text(), lambda k: mapping[k['CmteId']]['state'])),\n",
    "    ('CmteZip', agate.Formula(agate.Text(), lambda k: mapping[k['CmteId']]['zip'])),\n",
    "    ('CmteType', agate.Formula(agate.Text(), lambda k: mapping[k['CmteId']]['committee_type'])),\n",
    "])"
   ]
  },
  {
   "cell_type": "code",
   "execution_count": 8,
   "metadata": {
    "collapsed": true
   },
   "outputs": [],
   "source": [
    "with_cmtes.to_csv('contribs_with_cmtes.csv')"
   ]
  },
  {
   "cell_type": "markdown",
   "metadata": {},
   "source": [
    "What committees raised the most money from Washington?"
   ]
  },
  {
   "cell_type": "code",
   "execution_count": 9,
   "metadata": {
    "collapsed": false
   },
   "outputs": [],
   "source": [
    "top_cmtes_pivot = with_cmtes.pivot(['CmteName'], aggregation=agate.Sum('Amount')).order_by('Sum', reverse=True)"
   ]
  },
  {
   "cell_type": "code",
   "execution_count": 10,
   "metadata": {
    "collapsed": false,
    "scrolled": true
   },
   "outputs": [
    {
     "name": "stdout",
     "output_type": "stream",
     "text": [
      "PEOPLE FOR PATTY MURRAY raised 983429\n",
      "HILLARY FOR AMERICA raised 860582\n",
      "NRCC raised 763246\n",
      "DSCC raised 572685\n",
      "MURRAY VICTORY FUND raised 498006\n",
      "ACTBLUE raised 414294\n",
      "REPUBLICAN NATIONAL COMMITTEE raised 385715\n",
      "BERNIE 2016 raised 384694\n",
      "PEOPLE FOR DEREK KILMER raised 354832\n",
      "WASHINGTON STATE REPUBLICAN PARTY raised 340495\n"
     ]
    }
   ],
   "source": [
    "for row in top_cmtes_pivot.order_by('Sum', reverse=True).limit(10).rows:\n",
    "    print '%s raised %d' % (row['CmteName'], row['Sum'])"
   ]
  },
  {
   "cell_type": "markdown",
   "metadata": {},
   "source": [
    "Let's break out just presidential committees."
   ]
  },
  {
   "cell_type": "code",
   "execution_count": 11,
   "metadata": {
    "collapsed": false
   },
   "outputs": [],
   "source": [
    "pres_only = with_cmtes.where(lambda k: k['CmteType'] == 'P')"
   ]
  },
  {
   "cell_type": "markdown",
   "metadata": {},
   "source": [
    "Who were the top donors to presidential committees? (Save the full table to `top_pres_donors.csv`)"
   ]
  },
  {
   "cell_type": "code",
   "execution_count": 12,
   "metadata": {
    "collapsed": false
   },
   "outputs": [
    {
     "name": "stdout",
     "output_type": "stream",
     "text": [
      "|-----------------------+----------------------+---------|\n",
      "|  Contrib              | CmteName             |    Sum  |\n",
      "|-----------------------+----------------------+---------|\n",
      "|  GAMORAN, SAUL        | CRUZ FOR PRESIDENT   | 10,800  |\n",
      "|  MEISENBACH, JOHN     | CRUZ FOR PRESIDENT   | 10,000  |\n",
      "|  LANDON, JOSEPH PA... | JEB 2016, INC.       |  8,100  |\n",
      "|  TUCKER, ROBERT       | JEB 2016, INC.       |  8,100  |\n",
      "|  ERWIN, GERALD        | CARSON AMERICA       |  7,700  |\n",
      "|  NEUPERT, SHERYL S... | MARCO RUBIO FOR P... |  5,400  |\n",
      "|  JULIAN, REBECCA L    | CRUZ FOR PRESIDENT   |  5,400  |\n",
      "|  RICE, MERIDEL        | CRUZ FOR PRESIDENT   |  5,400  |\n",
      "|  SABOL, JOHN          | HILLARY FOR AMERICA  |  5,400  |\n",
      "|  KETCHAM, SAM         | HILLARY FOR AMERICA  |  5,400  |\n",
      "|-----------------------+----------------------+---------|\n"
     ]
    }
   ],
   "source": [
    "top_pres_donors_pivot = pres_only.pivot(\n",
    "    ['Contrib', 'CmteName'], aggregation=agate.Sum('Amount')).order_by('Sum', reverse=True)\n",
    "top_pres_donors_pivot.limit(10).print_table()\n",
    "top_pres_donors_pivot.to_csv('top_pres_donors.csv')"
   ]
  },
  {
   "cell_type": "markdown",
   "metadata": {},
   "source": [
    "What were the top parties by fundraising, and how much did they get (and from whom)? (Save the full tables to `top_parties.csv` and `top_donor_parties.csv`)"
   ]
  },
  {
   "cell_type": "code",
   "execution_count": 18,
   "metadata": {
    "collapsed": false
   },
   "outputs": [
    {
     "name": "stdout",
     "output_type": "stream",
     "text": [
      "|------------+------------|\n",
      "|  CmteParty |       Sum  |\n",
      "|------------+------------|\n",
      "|            | 5,692,250  |\n",
      "|  DEM       | 4,492,105  |\n",
      "|  REP       | 3,779,814  |\n",
      "|  UNK       |   380,854  |\n",
      "|  NNE       |    87,011  |\n",
      "|  IND       |    22,100  |\n",
      "|  DFL       |     8,900  |\n",
      "|  GRE       |     6,850  |\n",
      "|  LIB       |     5,005  |\n",
      "|  WOR       |       500  |\n",
      "|------------+------------|\n"
     ]
    }
   ],
   "source": [
    "top_parties = with_cmtes.pivot(['CmteParty'], aggregation=agate.Sum('Amount')).order_by('Sum',reverse=True)\n",
    "top_parties.limit(10).print_table()\n",
    "top_parties.to_csv('top_parties.csv')"
   ]
  },
  {
   "cell_type": "code",
   "execution_count": 19,
   "metadata": {
    "collapsed": false,
    "scrolled": true
   },
   "outputs": [
    {
     "name": "stdout",
     "output_type": "stream",
     "text": [
      "|-----------------------+-----------+----------|\n",
      "|  Contrib              | CmteParty |     Sum  |\n",
      "|-----------------------+-----------+----------|\n",
      "|  BALLMER, CONNIE E    |           | 250,000  |\n",
      "|                       | REP       | 212,400  |\n",
      "|  SCHWEITZER, BEATR... | REP       | 173,000  |\n",
      "|  SCHWEITZER, EDMUN... | REP       | 173,000  |\n",
      "|  SCHWEITZER, BEATR... |           | 155,000  |\n",
      "|  SCHWEITZER, III, ... |           | 150,000  |\n",
      "|  PUYALLUP TRIBE OF... | DEM       | 130,500  |\n",
      "|  KEITH, MICHAEL       | DEM       |  93,405  |\n",
      "|  CLARK, JOSEPH        | REP       |  72,000  |\n",
      "|  MUCKLESHOOT INDIA... | DEM       |  70,500  |\n",
      "|-----------------------+-----------+----------|\n"
     ]
    }
   ],
   "source": [
    "top_donor_parties = with_cmtes.pivot(\n",
    "    ['Contrib', 'CmteParty'], aggregation=agate.Sum('Amount')).order_by('Sum', reverse=True)\n",
    "top_donor_parties.limit(10).print_table()\n",
    "top_donor_parties.to_csv('top_donor_parties.csv')"
   ]
  },
  {
   "cell_type": "markdown",
   "metadata": {},
   "source": [
    "What were the largest donor-committee pairs? I.e., which donors gave the most to whom? (Save the full table to `top_cmte_donors.csv`)"
   ]
  },
  {
   "cell_type": "code",
   "execution_count": 14,
   "metadata": {
    "collapsed": false
   },
   "outputs": [
    {
     "name": "stdout",
     "output_type": "stream",
     "text": [
      "|-----------------------+----------------------+-----------+----------|\n",
      "|  Contrib              | CmteName             | CmteParty |     Sum  |\n",
      "|-----------------------+----------------------+-----------+----------|\n",
      "|  BALLMER, CONNIE E    | AMERICANS FOR RES... |           | 250,000  |\n",
      "|                       | NRCC                 | REP       | 212,400  |\n",
      "|  SCHWEITZER, BEATR... | MCMORRIS RODGERS ... |           | 150,000  |\n",
      "|  SCHWEITZER, III, ... | MCMORRIS RODGERS ... |           | 150,000  |\n",
      "|  SCHWEITZER, BEATR... | NRCC                 | REP       | 139,600  |\n",
      "|  SCHWEITZER, EDMUN... | NRCC                 | REP       | 139,600  |\n",
      "|  CLARK, JOSEPH        | REPUBLICAN NATION... | REP       |  66,600  |\n",
      "|  PUYALLUP TRIBE OF... | DSCC                 | DEM       |  64,800  |\n",
      "|  MCCAW, CRAIG MR      | RIGHT TO RISE USA    |           |  50,000  |\n",
      "|  LANDON, JOSEPH MR    | RIGHT TO RISE USA    |           |  50,000  |\n",
      "|-----------------------+----------------------+-----------+----------|\n"
     ]
    }
   ],
   "source": [
    "top_cmte_donors = with_cmtes.pivot(\n",
    "    ['Contrib', 'CmteName', 'CmteParty'], aggregation=agate.Sum('Amount')).order_by('Sum', reverse=True)\n",
    "top_cmte_donors.limit(10).print_table()\n",
    "top_cmte_donors.to_csv('top_cmte_donors.csv')"
   ]
  },
  {
   "cell_type": "markdown",
   "metadata": {
    "collapsed": true
   },
   "source": [
    "Let's rank all the zipcodes in our data by how much they've given (so we can do a choropleth later, if we want). Save the full table to `zip_amounts.csv`."
   ]
  },
  {
   "cell_type": "code",
   "execution_count": 22,
   "metadata": {
    "collapsed": false
   },
   "outputs": [],
   "source": [
    "zip_fives = with_cmtes.compute([\n",
    "    ('Zip5', agate.Formula(agate.Text(), lambda k: str(k['Zip'])[:5]))\n",
    "])"
   ]
  },
  {
   "cell_type": "code",
   "execution_count": 24,
   "metadata": {
    "collapsed": false
   },
   "outputs": [
    {
     "name": "stdout",
     "output_type": "stream",
     "text": [
      "|--------+----------|\n",
      "|  Zip5  |     Sum  |\n",
      "|--------+----------|\n",
      "|  98004 | 967,854  |\n",
      "|  99163 | 895,368  |\n",
      "|  98101 | 473,987  |\n",
      "|  98040 | 468,684  |\n",
      "|  98112 | 423,031  |\n",
      "|  98039 | 339,659  |\n",
      "|  98119 | 332,749  |\n",
      "|  98177 | 285,893  |\n",
      "|  98105 | 272,272  |\n",
      "|  98033 | 256,558  |\n",
      "|--------+----------|\n"
     ]
    }
   ],
   "source": [
    "zip_five_pivot = zip_fives.pivot(['Zip5'], aggregation=agate.Sum('Amount')).order_by('Sum', reverse=True)\n",
    "zip_five_pivot.limit(10).print_table()\n",
    "zip_five_pivot.to_csv('zip_amounts.csv')"
   ]
  },
  {
   "cell_type": "markdown",
   "metadata": {},
   "source": [
    "Can we have that pivot table group by committee too? (`zip_cmte_amounts.csv`)"
   ]
  },
  {
   "cell_type": "code",
   "execution_count": 25,
   "metadata": {
    "collapsed": false
   },
   "outputs": [
    {
     "name": "stdout",
     "output_type": "stream",
     "text": [
      "|--------+----------------------+----------|\n",
      "|  Zip5  | CmteName             |     Sum  |\n",
      "|--------+----------------------+----------|\n",
      "|  99163 | NRCC                 | 491,600  |\n",
      "|  99163 | MCMORRIS RODGERS ... | 300,000  |\n",
      "|  98004 | AMERICANS FOR RES... | 250,000  |\n",
      "|  98108 | REPUBLICAN NATION... | 100,000  |\n",
      "|  98112 | HILLARY FOR AMERICA  |  78,600  |\n",
      "|  98004 | HILLARY FOR AMERICA  |  75,050  |\n",
      "|  98177 | DSCC                 |  71,550  |\n",
      "|  98083 | REPUBLICAN NATION... |  66,800  |\n",
      "|  99163 | NRSC                 |  66,800  |\n",
      "|  98070 | DSCC                 |  66,518  |\n",
      "|--------+----------------------+----------|\n"
     ]
    }
   ],
   "source": [
    "zip_five_committee_pivot = zip_fives.pivot(\n",
    "    ['Zip5', 'CmteName'], aggregation=agate.Sum('Amount')).order_by('Sum', reverse=True)\n",
    "zip_five_committee_pivot.limit(10).print_table()\n",
    "zip_five_committee_pivot.to_csv('zip_cmte_amounts.csv')"
   ]
  },
  {
   "cell_type": "markdown",
   "metadata": {},
   "source": [
    "What are Hillary's top zips? How about Bernie's? Trump's? Cruz's?"
   ]
  },
  {
   "cell_type": "code",
   "execution_count": 34,
   "metadata": {
    "collapsed": false
   },
   "outputs": [
    {
     "name": "stdout",
     "output_type": "stream",
     "text": [
      "Hillary for America\n",
      "|--------+---------|\n",
      "|  Zip5  |    Sum  |\n",
      "|--------+---------|\n",
      "|  98112 | 78,600  |\n",
      "|  98004 | 75,050  |\n",
      "|  98119 | 44,056  |\n",
      "|  98144 | 43,935  |\n",
      "|  98102 | 35,750  |\n",
      "|  98040 | 34,600  |\n",
      "|  98109 | 27,100  |\n",
      "|  98101 | 27,010  |\n",
      "|  98117 | 20,563  |\n",
      "|  98121 | 19,500  |\n",
      "|--------+---------|\n",
      "Bernie 2016\n",
      "|--------+---------|\n",
      "|  Zip5  |    Sum  |\n",
      "|--------+---------|\n",
      "|  98122 | 13,250  |\n",
      "|  98112 | 12,021  |\n",
      "|  98070 | 11,480  |\n",
      "|  98110 | 10,921  |\n",
      "|  98115 | 10,149  |\n",
      "|  98117 |  9,650  |\n",
      "|  98103 |  8,800  |\n",
      "|  98119 |  8,350  |\n",
      "|  98144 |  7,550  |\n",
      "|  98105 |  7,216  |\n",
      "|--------+---------|\n",
      "Donald J. Trump for President, Inc.\n",
      "|--------+--------|\n",
      "|  Zip5  |   Sum  |\n",
      "|--------+--------|\n",
      "|  98020 | 2,950  |\n",
      "|  98004 | 2,700  |\n",
      "|  98248 | 2,700  |\n",
      "|  98039 | 2,700  |\n",
      "|  98331 | 1,120  |\n",
      "|  98390 | 1,000  |\n",
      "|  98312 | 1,000  |\n",
      "|  98112 | 1,000  |\n",
      "|  99217 |   500  |\n",
      "|  98363 |   500  |\n",
      "|--------+--------|\n",
      "Cruz for President\n",
      "|--------+---------|\n",
      "|  Zip5  |    Sum  |\n",
      "|--------+---------|\n",
      "|  98040 | 13,550  |\n",
      "|  98004 | 12,700  |\n",
      "|  98006 | 10,400  |\n",
      "|  98664 |  8,100  |\n",
      "|  98642 |  6,200  |\n",
      "|  98686 |  6,150  |\n",
      "|  98070 |  5,400  |\n",
      "|  98403 |  5,200  |\n",
      "|  98226 |  4,901  |\n",
      "|  98101 |  4,500  |\n",
      "|--------+---------|\n"
     ]
    }
   ],
   "source": [
    "for cmte in [\n",
    "        'Hillary for America',\n",
    "        'Bernie 2016',\n",
    "        'Donald J. Trump for President, Inc.',\n",
    "        'Cruz for President']:\n",
    "    cmte_zip_pivot = zip_fives.where(lambda k: k['CmteName'] == cmte.upper()).pivot(\n",
    "        ['Zip5'], aggregation=agate.Sum('Amount')).order_by('Sum', reverse=True)\n",
    "    print cmte\n",
    "    cmte_zip_pivot.limit(10).print_table()\n",
    "    cmte_zip_pivot.to_csv('%s_zip_amounts.csv' % cmte.replace(' ', '').replace('.', '').replace(',', '').lower())"
   ]
  },
  {
   "cell_type": "markdown",
   "metadata": {},
   "source": [
    "What are Hillary's top employers? Occupations? Same for the others?"
   ]
  },
  {
   "cell_type": "code",
   "execution_count": 33,
   "metadata": {
    "collapsed": false
   },
   "outputs": [
    {
     "name": "stdout",
     "output_type": "stream",
     "text": [
      "Hillary for America\n",
      "Employer\n",
      "|-----------------------+----------|\n",
      "|  Employer             |     Sum  |\n",
      "|-----------------------+----------|\n",
      "|                       | 186,267  |\n",
      "|  SELF-EMPLOYED        | 151,611  |\n",
      "|  RETIRED              |  35,399  |\n",
      "|  MICROSOFT CORPORA... |  31,885  |\n",
      "|  UNIVERSITY OF WAS... |  21,700  |\n",
      "|  STARBUCKS COFFEE ... |  21,500  |\n",
      "|  STARBUCKS            |   8,850  |\n",
      "|  GMMB                 |   7,900  |\n",
      "|  INTELLECTUAL VENT... |   6,150  |\n",
      "|  DLA PIPER LLP        |   5,400  |\n",
      "|-----------------------+----------|\n",
      "Occupation\n",
      "|-------------+----------|\n",
      "|  Occupation |     Sum  |\n",
      "|-------------+----------|\n",
      "|  RETIRED    | 110,372  |\n",
      "|  ATTORNEY   |  42,497  |\n",
      "|             |  38,895  |\n",
      "|  CONSULTANT |  29,150  |\n",
      "|  LAWYER     |  25,850  |\n",
      "|  EXECUTIVE  |  23,450  |\n",
      "|  HOMEMAKER  |  23,100  |\n",
      "|  STUDENT    |  21,600  |\n",
      "|  PROFESSOR  |  17,250  |\n",
      "|  PHYSICIAN  |  17,250  |\n",
      "|-------------+----------|\n",
      "Bernie 2016; Friends of Bernie Sanders\n",
      "Employer\n",
      "|-----------------------+----------|\n",
      "|  Employer             |     Sum  |\n",
      "|-----------------------+----------|\n",
      "|  NOT EMPLOYED         | 135,466  |\n",
      "|  SELF EMPLOYED        |  28,177  |\n",
      "|  SELF-EMPLOYED        |  26,158  |\n",
      "|                       |  22,216  |\n",
      "|  MICROSOFT            |   9,050  |\n",
      "|  QUILCEDA CREEK VI... |   5,000  |\n",
      "|  AMAZON.COM           |   4,150  |\n",
      "|  NORTH STAR PARTNERS  |   3,500  |\n",
      "|  AMAZON               |   3,302  |\n",
      "|  VALVE CORPORATION    |   2,950  |\n",
      "|-----------------------+----------|\n",
      "Occupation\n",
      "|-----------------------+----------|\n",
      "|  Occupation           |     Sum  |\n",
      "|-----------------------+----------|\n",
      "|  NOT EMPLOYED         | 112,626  |\n",
      "|  RETIRED              |  27,959  |\n",
      "|  ATTORNEY             |  17,699  |\n",
      "|  PHYSICIAN            |  15,000  |\n",
      "|                       |  13,566  |\n",
      "|  SOFTWARE ENGINEER    |  13,069  |\n",
      "|  SOFTWARE DEVELOPER   |   7,702  |\n",
      "|  ENGINEER             |   6,649  |\n",
      "|  TECHNOLOGY CONSUL... |   6,000  |\n",
      "|  PRESIDENT            |   5,000  |\n",
      "|-----------------------+----------|\n",
      "Donald J. Trump for President, Inc.\n",
      "Employer\n",
      "|-----------------------+--------|\n",
      "|  Employer             |   Sum  |\n",
      "|-----------------------+--------|\n",
      "|  SELF EMPLOYED        | 5,882  |\n",
      "|  RETIRED              | 4,450  |\n",
      "|  INTENTIONAL CORP     | 2,700  |\n",
      "|  SELF-EMPLOYED        | 1,250  |\n",
      "|  DILLEY & SOLOMAN ... | 1,120  |\n",
      "|  CASCADE LEAN CONS... | 1,000  |\n",
      "|  ARBORISTS OF WASH... |   500  |\n",
      "|  JYCOLE               |   500  |\n",
      "|                       |   260  |\n",
      "|  JOHNNY DELASHAW      |   250  |\n",
      "|-----------------------+--------|\n",
      "Occupation\n",
      "|------------------+--------|\n",
      "|  Occupation      |   Sum  |\n",
      "|------------------+--------|\n",
      "|  RETIRED         | 4,450  |\n",
      "|  MANAGER         | 3,200  |\n",
      "|  ASSISTED LIVING | 2,700  |\n",
      "|  DESIGN ENGINEER | 2,700  |\n",
      "|  LOGGER          | 1,120  |\n",
      "|  SALEMAN         | 1,000  |\n",
      "|  ENGINEER        | 1,000  |\n",
      "|  PRESIDENT       |   500  |\n",
      "|  SALES           |   472  |\n",
      "|                  |   260  |\n",
      "|------------------+--------|\n",
      "Cruz for President\n",
      "Employer\n",
      "|-----------------------+---------|\n",
      "|  Employer             |    Sum  |\n",
      "|-----------------------+---------|\n",
      "|  SELF EMPLOYED        | 33,700  |\n",
      "|  RETIRED              | 25,641  |\n",
      "|                       | 14,050  |\n",
      "|  GAMORAN LEGAL CON... | 10,800  |\n",
      "|  MCM                  | 10,000  |\n",
      "|  110 CONSULTING       |  5,200  |\n",
      "|  SELF-EMPLOYED        |  4,231  |\n",
      "|  SELF                 |  3,950  |\n",
      "|  AUTOMATED CONTROL... |  3,500  |\n",
      "|  SALES EXECUTIVE      |  2,901  |\n",
      "|-----------------------+---------|\n",
      "Occupation\n",
      "|-------------+---------|\n",
      "|  Occupation |    Sum  |\n",
      "|-------------+---------|\n",
      "|  RETIRED    | 25,891  |\n",
      "|  INVESTOR   | 17,800  |\n",
      "|  CONSULTANT | 14,050  |\n",
      "|  SALES      | 10,000  |\n",
      "|  ENGINEER   |  8,950  |\n",
      "|             |  7,750  |\n",
      "|  HOMEMAKER  |  6,100  |\n",
      "|  LANDLORD   |  5,400  |\n",
      "|  SOFTWARE   |  5,200  |\n",
      "|  PHYSICIAN  |  5,200  |\n",
      "|-------------+---------|\n"
     ]
    }
   ],
   "source": [
    "for cmte in [\n",
    "        ['Hillary for America'],\n",
    "        ['Bernie 2016', 'Friends of Bernie Sanders'],\n",
    "        ['Donald J. Trump for President, Inc.'],\n",
    "        ['Cruz for President']]:\n",
    "    print '; '.join(cmte)\n",
    "    for field in ['Employer', 'Occupation']:\n",
    "        cmte_pivot = with_cmtes.where(lambda k: k['CmteName'] in [c.upper() for c in cmte]).pivot(\n",
    "            [field], aggregation=agate.Sum('Amount')).order_by('Sum', reverse=True)\n",
    "        print field\n",
    "        cmte_pivot.limit(10).print_table()\n",
    "        cmte_pivot.to_csv('%s_%s_amounts.csv' % (\n",
    "                cmte[0].replace(' ', '').replace('.', '').replace(',', '').lower(), field.lower()))"
   ]
  },
  {
   "cell_type": "markdown",
   "metadata": {},
   "source": [
    "What have each of the Presidential committees raised?"
   ]
  },
  {
   "cell_type": "code",
   "execution_count": 30,
   "metadata": {
    "collapsed": false
   },
   "outputs": [
    {
     "name": "stdout",
     "output_type": "stream",
     "text": [
      "|-----------------------+----------|\n",
      "|  CmteName             |     Sum  |\n",
      "|-----------------------+----------|\n",
      "|  HILLARY FOR AMERICA  | 860,582  |\n",
      "|  BERNIE 2016          | 384,694  |\n",
      "|  JEB 2016, INC.       | 225,750  |\n",
      "|  CARSON AMERICA       | 180,917  |\n",
      "|  CRUZ FOR PRESIDENT   | 148,723  |\n",
      "|  MARCO RUBIO FOR P... | 148,150  |\n",
      "|  RAND PAUL FOR PRE... |  80,978  |\n",
      "|  CARLY FOR PRESIDENT  |  70,728  |\n",
      "|  SCOTT WALKER INC     |  49,608  |\n",
      "|  DONALD J. TRUMP F... |  19,084  |\n",
      "|  KASICH FOR AMERICA   |  16,250  |\n",
      "|  WEBB 2016            |  13,900  |\n",
      "|  LINDSEY GRAHAM 2016  |  11,450  |\n",
      "|  O'MALLEY FOR PRES... |   7,000  |\n",
      "|  PERRY FOR PRESIDE... |   6,900  |\n",
      "|  JILL STEIN FOR PR... |   5,100  |\n",
      "|  JINDAL FOR PRESIDENT |   4,750  |\n",
      "|  HUCKABEE FOR PRES... |   3,950  |\n",
      "|  CHRIS CHRISTIE FO... |   3,200  |\n",
      "|  GILMORE FOR AMERI... |   2,700  |\n",
      "|-----------------------+----------|\n"
     ]
    }
   ],
   "source": [
    "pres_cmtes_pivot = with_cmtes.where(lambda k: k['CmteType'] == 'P').pivot(\n",
    "    ['CmteName'], aggregation=agate.Sum('Amount')).order_by('Sum', reverse=True)\n",
    "pres_cmtes_pivot.limit(20).print_table()\n",
    "pres_cmtes_pivot.to_csv('pres_cmte_amounts.csv')"
   ]
  },
  {
   "cell_type": "code",
   "execution_count": null,
   "metadata": {
    "collapsed": true
   },
   "outputs": [],
   "source": []
  }
 ],
 "metadata": {
  "kernelspec": {
   "display_name": "Python 2",
   "language": "python",
   "name": "python2"
  },
  "language_info": {
   "codemirror_mode": {
    "name": "ipython",
    "version": 2
   },
   "file_extension": ".py",
   "mimetype": "text/x-python",
   "name": "python",
   "nbconvert_exporter": "python",
   "pygments_lexer": "ipython2",
   "version": "2.7.8"
  }
 },
 "nbformat": 4,
 "nbformat_minor": 0
}
