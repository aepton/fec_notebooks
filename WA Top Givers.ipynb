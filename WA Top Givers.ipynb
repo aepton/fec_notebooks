{
 "cells": [
  {
   "cell_type": "code",
   "execution_count": 1,
   "metadata": {
    "collapsed": true
   },
   "outputs": [],
   "source": [
    "import agate\n",
    "\n",
    "table = agate.Table.from_csv('indivs_Washington16.csv')"
   ]
  },
  {
   "cell_type": "code",
   "execution_count": 8,
   "metadata": {
    "collapsed": false
   },
   "outputs": [
    {
     "data": {
      "text/plain": [
       "[u'Contrib', u'Orgname', u'Zip', u'Sum']"
      ]
     },
     "execution_count": 8,
     "metadata": {},
     "output_type": "execute_result"
    }
   ],
   "source": [
    "pivot = table.pivot(['Contrib', 'Orgname', 'Zip'], aggregation=agate.Sum('Amount')).order_by('Sum', reverse=True)"
   ]
  },
  {
   "cell_type": "code",
   "execution_count": 10,
   "metadata": {
    "collapsed": false
   },
   "outputs": [
    {
     "name": "stdout",
     "output_type": "stream",
     "text": [
      "[u'Cycle', u'Fectransid', u'Contribid', u'Contrib', u'Recipid', u'Orgname', u'Ultorg', u'Realcode', u'Date', u'Amount', u'Street', u'City', u'State', u'Zip', u'Recipcode', u'Type', u'CmteId', u'OtherID', u'Gender', u'Microfilm', u'Occupation', u'Employer', u'Source']\n",
      "BALLMER, CONNIE E Partners for Our Children 98004 250000\n",
      "PUYALLUP TRIBE OF INDIANS Puyallup Tribe of Indians 98404 186100\n",
      "SCHWEITZER, BEATRIZ VALDEZ MRS Schweitzer Engineering Labs 99163 173000\n",
      "SCHWEITZER, EDMUND O DR Schweitzer Engineering Labs 99163 173000\n",
      "SCHWEITZER, BEATRIZ V Schweitzer Engineering Labs 99163 155000\n",
      "SCHWEITZER, III, EDMUND O Schweitzer Engineering Labs 99163 150000\n",
      "None Homemaker 99163 106200\n",
      "None SCHWEITZER ENGINEERING LABS 99163 106200\n",
      "SNOQUALMIE TRIBE Snoqualmie Tribe 98065 104800\n",
      "MUCKLESHOOT INDIAN TRIBE Muckleshoot Indian Tribe 98092 75700\n"
     ]
    }
   ],
   "source": [
    "print [c.name for c in table.columns]\n",
    "for row in pivot.order_by('Sum', reverse=True).limit(10).rows:\n",
    "    print row['Contrib'], row['Orgname'], row['Zip'], row['Sum']"
   ]
  },
  {
   "cell_type": "code",
   "execution_count": 11,
   "metadata": {
    "collapsed": false
   },
   "outputs": [],
   "source": [
    "import json\n",
    "import os\n",
    "import pycurl\n",
    "from StringIO import StringIO\n",
    "\n",
    "def get_cmte_from_id(cmte_id):\n",
    "    api_key = os.getenv('PROPUBLICA_API_KEY')\n",
    "    url = 'https://api.propublica.org/campaign-finance/v1/2016/committees/%s.json' % cmte_id\n",
    "\n",
    "    buffer = StringIO()\n",
    "    c = pycurl.Curl()\n",
    "    c.setopt(c.URL, url)\n",
    "    c.setopt(c.HTTPHEADER, ['X-API-KEY: %s' % api_key])\n",
    "    c.setopt(c.WRITEDATA, buffer)\n",
    "    c.perform()\n",
    "    c.close()\n",
    "\n",
    "    body = buffer.getvalue()\n",
    "    # Body is a string in some encoding.\n",
    "    # In Python 2, we can print it without knowing what the encoding is.\n",
    "    try:\n",
    "        return json.loads(body)['results'][0]\n",
    "    except:\n",
    "        return {}"
   ]
  },
  {
   "cell_type": "code",
   "execution_count": 12,
   "metadata": {
    "collapsed": false
   },
   "outputs": [
    {
     "name": "stdout",
     "output_type": "stream",
     "text": [
      "776\n"
     ]
    }
   ],
   "source": [
    "mapping = {}\n",
    "\n",
    "for cmte in table.columns['CmteId'].values_distinct():\n",
    "    mapping[cmte] = get_cmte_from_id(cmte)\n",
    "\n",
    "print len(mapping)"
   ]
  },
  {
   "cell_type": "code",
   "execution_count": 13,
   "metadata": {
    "collapsed": true
   },
   "outputs": [],
   "source": [
    "with open('mapping.json', 'w+') as fh:\n",
    "    fh.write(json.dumps(mapping))"
   ]
  },
  {
   "cell_type": "code",
   "execution_count": 5,
   "metadata": {
    "collapsed": false
   },
   "outputs": [],
   "source": [
    "with open('mapping.json') as fh:\n",
    "    mapping = json.loads(fh.read())"
   ]
  },
  {
   "cell_type": "code",
   "execution_count": 14,
   "metadata": {
    "collapsed": false
   },
   "outputs": [],
   "source": [
    "with_cmtes = table.compute([\n",
    "    ('CmteName', agate.Formula(agate.Text(), lambda k: mapping[k['CmteId']]['name'])),\n",
    "    ('CmteParty', agate.Formula(agate.Text(), lambda k: mapping[k['CmteId']]['party'])),\n",
    "    ('CmteAddress', agate.Formula(agate.Text(), lambda k: mapping[k['CmteId']]['address'])),\n",
    "    ('CmteCity', agate.Formula(agate.Text(), lambda k: mapping[k['CmteId']]['city'])),\n",
    "    ('CmteState', agate.Formula(agate.Text(), lambda k: mapping[k['CmteId']]['state'])),\n",
    "    ('CmteZip', agate.Formula(agate.Text(), lambda k: mapping[k['CmteId']]['zip'])),\n",
    "    ('CmteType', agate.Formula(agate.Text(), lambda k: mapping[k['CmteId']]['committee_type'])),\n",
    "])"
   ]
  },
  {
   "cell_type": "code",
   "execution_count": 15,
   "metadata": {
    "collapsed": true
   },
   "outputs": [],
   "source": [
    "with_cmtes.to_csv('contribs_with_cmtes.csv')"
   ]
  },
  {
   "cell_type": "code",
   "execution_count": 24,
   "metadata": {
    "collapsed": false
   },
   "outputs": [],
   "source": [
    "top_cmtes_pivot = with_cmtes.pivot(['CmteName'], aggregation=agate.Sum('Amount')).order_by('Sum', reverse=True)"
   ]
  },
  {
   "cell_type": "code",
   "execution_count": 23,
   "metadata": {
    "collapsed": false
   },
   "outputs": [
    {
     "name": "stdout",
     "output_type": "stream",
     "text": [
      "PEOPLE FOR PATTY MURRAY raised 983429\n",
      "HILLARY FOR AMERICA raised 860582\n",
      "NRCC raised 763246\n",
      "DSCC raised 572685\n",
      "MURRAY VICTORY FUND raised 498006\n",
      "ACTBLUE raised 414294\n",
      "REPUBLICAN NATIONAL COMMITTEE raised 385715\n",
      "BERNIE 2016 raised 384694\n",
      "PEOPLE FOR DEREK KILMER raised 354832\n",
      "WASHINGTON STATE REPUBLICAN PARTY raised 340495\n"
     ]
    }
   ],
   "source": [
    "for row in top_cmtes_pivot.order_by('Sum', reverse=True).limit(10).rows:\n",
    "    print '%s raised %d' % (row['CmteName'], row['Sum'])"
   ]
  },
  {
   "cell_type": "code",
   "execution_count": 26,
   "metadata": {
    "collapsed": false
   },
   "outputs": [
    {
     "name": "stdout",
     "output_type": "stream",
     "text": [
      "abrahamepton\n"
     ]
    }
   ],
   "source": []
  },
  {
   "cell_type": "code",
   "execution_count": null,
   "metadata": {
    "collapsed": true
   },
   "outputs": [],
   "source": []
  }
 ],
 "metadata": {
  "kernelspec": {
   "display_name": "Python 2",
   "language": "python",
   "name": "python2"
  },
  "language_info": {
   "codemirror_mode": {
    "name": "ipython",
    "version": 2
   },
   "file_extension": ".py",
   "mimetype": "text/x-python",
   "name": "python",
   "nbconvert_exporter": "python",
   "pygments_lexer": "ipython2",
   "version": "2.7.8"
  }
 },
 "nbformat": 4,
 "nbformat_minor": 0
}
