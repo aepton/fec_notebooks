{
 "cells": [
  {
   "cell_type": "markdown",
   "metadata": {},
   "source": [
    "# Top Campaign donors in Washington State\n",
    "\n",
    "This notebook analyzes bulk data retrieved from [Open Secrets](http://www.opensecrets.org/myos/bulk.php) - specifically, donations to federal campaigns for the 2016 cycle through most of January."
   ]
  },
  {
   "cell_type": "markdown",
   "metadata": {},
   "source": [
    "Let's load the basic data and see what we've got."
   ]
  },
  {
   "cell_type": "code",
   "execution_count": 1,
   "metadata": {
    "collapsed": false
   },
   "outputs": [
    {
     "name": "stdout",
     "output_type": "stream",
     "text": [
      "[u'Cycle', u'Fectransid', u'Contribid', u'Contrib', u'Recipid', u'Orgname', u'Ultorg', u'Realcode', u'Date', u'Amount', u'Street', u'City', u'State', u'Zip', u'Recipcode', u'Type', u'CmteId', u'OtherID', u'Gender', u'Microfilm', u'Occupation', u'Employer', u'Source']\n"
     ]
    }
   ],
   "source": [
    "import agate\n",
    "\n",
    "table = agate.Table.from_csv('indivs_Washington16.csv')\n",
    "print [c.name for c in table.columns]"
   ]
  },
  {
   "cell_type": "markdown",
   "metadata": {},
   "source": [
    "Next, let's make a pivot table off of it - just contributor name, their organization, their zip code, and how much they've given (taking into account that sum entries in the data account for refunds, i.e. negative amounts)."
   ]
  },
  {
   "cell_type": "code",
   "execution_count": 2,
   "metadata": {
    "collapsed": false
   },
   "outputs": [],
   "source": [
    "pivot = table.pivot(['Contrib', 'Orgname', 'Zip'], aggregation=agate.Sum('Amount')).order_by('Sum', reverse=True)"
   ]
  },
  {
   "cell_type": "code",
   "execution_count": 3,
   "metadata": {
    "collapsed": false
   },
   "outputs": [
    {
     "name": "stdout",
     "output_type": "stream",
     "text": [
      "BALLMER, CONNIE E Partners for Our Children 98004 250000\n",
      "PUYALLUP TRIBE OF INDIANS Puyallup Tribe of Indians 98404 186100\n",
      "SCHWEITZER, BEATRIZ VALDEZ MRS Schweitzer Engineering Labs 99163 173000\n",
      "SCHWEITZER, EDMUND O DR Schweitzer Engineering Labs 99163 173000\n",
      "SCHWEITZER, BEATRIZ V Schweitzer Engineering Labs 99163 155000\n",
      "SCHWEITZER, III, EDMUND O Schweitzer Engineering Labs 99163 150000\n",
      "None Homemaker 99163 106200\n",
      "None SCHWEITZER ENGINEERING LABS 99163 106200\n",
      "SNOQUALMIE TRIBE Snoqualmie Tribe 98065 104800\n",
      "MUCKLESHOOT INDIAN TRIBE Muckleshoot Indian Tribe 98092 75700\n"
     ]
    }
   ],
   "source": [
    "for row in pivot.order_by('Sum', reverse=True).limit(10).rows:\n",
    "    print row['Contrib'], row['Orgname'], row['Zip'], row['Sum']"
   ]
  },
  {
   "cell_type": "markdown",
   "metadata": {},
   "source": [
    "Now we need to be able to see what the contributor IDs mean, so we'll ask ProPublica via [their API](https://propublica.github.io/campaign-finance-api-docs)."
   ]
  },
  {
   "cell_type": "code",
   "execution_count": 4,
   "metadata": {
    "collapsed": false
   },
   "outputs": [],
   "source": [
    "import json\n",
    "import os\n",
    "import pycurl\n",
    "from StringIO import StringIO\n",
    "\n",
    "def get_cmte_from_id(cmte_id):\n",
    "    api_key = os.getenv('PROPUBLICA_API_KEY')\n",
    "    url = 'https://api.propublica.org/campaign-finance/v1/2016/committees/%s.json' % cmte_id\n",
    "\n",
    "    buffer = StringIO()\n",
    "    c = pycurl.Curl()\n",
    "    c.setopt(c.URL, url)\n",
    "    c.setopt(c.HTTPHEADER, ['X-API-KEY: %s' % api_key])\n",
    "    c.setopt(c.WRITEDATA, buffer)\n",
    "    c.perform()\n",
    "    c.close()\n",
    "\n",
    "    body = buffer.getvalue()\n",
    "    # Body is a string in some encoding.\n",
    "    # In Python 2, we can print it without knowing what the encoding is.\n",
    "    try:\n",
    "        return json.loads(body)['results'][0]\n",
    "    except:\n",
    "        return {}"
   ]
  },
  {
   "cell_type": "markdown",
   "metadata": {},
   "source": [
    "Save this mapping to a file so we don't have to rebuild it later."
   ]
  },
  {
   "cell_type": "code",
   "execution_count": 5,
   "metadata": {
    "collapsed": false
   },
   "outputs": [
    {
     "name": "stdout",
     "output_type": "stream",
     "text": [
      "776\n"
     ]
    }
   ],
   "source": [
    "mapping = {}\n",
    "\n",
    "for cmte in table.columns['CmteId'].values_distinct():\n",
    "    mapping[cmte] = get_cmte_from_id(cmte)\n",
    "\n",
    "print len(mapping)"
   ]
  },
  {
   "cell_type": "code",
   "execution_count": 6,
   "metadata": {
    "collapsed": true
   },
   "outputs": [],
   "source": [
    "with open('mapping.json', 'w+') as fh:\n",
    "    fh.write(json.dumps(mapping))"
   ]
  },
  {
   "cell_type": "markdown",
   "metadata": {},
   "source": [
    "Now annotate the table (and save it to `contribs_with_cmtes` when we're done)."
   ]
  },
  {
   "cell_type": "code",
   "execution_count": 7,
   "metadata": {
    "collapsed": false
   },
   "outputs": [],
   "source": [
    "with_cmtes = table.compute([\n",
    "    ('CmteName', agate.Formula(agate.Text(), lambda k: mapping[k['CmteId']]['name'])),\n",
    "    ('CmteParty', agate.Formula(agate.Text(), lambda k: mapping[k['CmteId']]['party'])),\n",
    "    ('CmteAddress', agate.Formula(agate.Text(), lambda k: mapping[k['CmteId']]['address'])),\n",
    "    ('CmteCity', agate.Formula(agate.Text(), lambda k: mapping[k['CmteId']]['city'])),\n",
    "    ('CmteState', agate.Formula(agate.Text(), lambda k: mapping[k['CmteId']]['state'])),\n",
    "    ('CmteZip', agate.Formula(agate.Text(), lambda k: mapping[k['CmteId']]['zip'])),\n",
    "    ('CmteType', agate.Formula(agate.Text(), lambda k: mapping[k['CmteId']]['committee_type'])),\n",
    "])"
   ]
  },
  {
   "cell_type": "code",
   "execution_count": 8,
   "metadata": {
    "collapsed": true
   },
   "outputs": [],
   "source": [
    "with_cmtes.to_csv('contribs_with_cmtes.csv')"
   ]
  },
  {
   "cell_type": "markdown",
   "metadata": {},
   "source": [
    "What committees raised the most money from Washington?"
   ]
  },
  {
   "cell_type": "code",
   "execution_count": 9,
   "metadata": {
    "collapsed": false
   },
   "outputs": [],
   "source": [
    "top_cmtes_pivot = with_cmtes.pivot(['CmteName'], aggregation=agate.Sum('Amount')).order_by('Sum', reverse=True)"
   ]
  },
  {
   "cell_type": "code",
   "execution_count": 10,
   "metadata": {
    "collapsed": false,
    "scrolled": true
   },
   "outputs": [
    {
     "name": "stdout",
     "output_type": "stream",
     "text": [
      "PEOPLE FOR PATTY MURRAY raised 983429\n",
      "HILLARY FOR AMERICA raised 860582\n",
      "NRCC raised 763246\n",
      "DSCC raised 572685\n",
      "MURRAY VICTORY FUND raised 498006\n",
      "ACTBLUE raised 414294\n",
      "REPUBLICAN NATIONAL COMMITTEE raised 385715\n",
      "BERNIE 2016 raised 384694\n",
      "PEOPLE FOR DEREK KILMER raised 354832\n",
      "WASHINGTON STATE REPUBLICAN PARTY raised 340495\n"
     ]
    }
   ],
   "source": [
    "for row in top_cmtes_pivot.order_by('Sum', reverse=True).limit(10).rows:\n",
    "    print '%s raised %d' % (row['CmteName'], row['Sum'])"
   ]
  },
  {
   "cell_type": "markdown",
   "metadata": {},
   "source": [
    "Let's break out just presidential committees."
   ]
  },
  {
   "cell_type": "code",
   "execution_count": 11,
   "metadata": {
    "collapsed": false
   },
   "outputs": [],
   "source": [
    "pres_only = with_cmtes.where(lambda k: k['CmteType'] == 'P')"
   ]
  },
  {
   "cell_type": "markdown",
   "metadata": {},
   "source": [
    "Who were the top donors to presidential committees? (Save the full table to `top_pres_donors.csv`)"
   ]
  },
  {
   "cell_type": "code",
   "execution_count": 12,
   "metadata": {
    "collapsed": false
   },
   "outputs": [
    {
     "name": "stdout",
     "output_type": "stream",
     "text": [
      "|-----------------------+----------------------+---------|\n",
      "|  Contrib              | CmteName             |    Sum  |\n",
      "|-----------------------+----------------------+---------|\n",
      "|  GAMORAN, SAUL        | CRUZ FOR PRESIDENT   | 10,800  |\n",
      "|  MEISENBACH, JOHN     | CRUZ FOR PRESIDENT   | 10,000  |\n",
      "|  LANDON, JOSEPH PA... | JEB 2016, INC.       |  8,100  |\n",
      "|  TUCKER, ROBERT       | JEB 2016, INC.       |  8,100  |\n",
      "|  ERWIN, GERALD        | CARSON AMERICA       |  7,700  |\n",
      "|  NEUPERT, SHERYL S... | MARCO RUBIO FOR P... |  5,400  |\n",
      "|  JULIAN, REBECCA L    | CRUZ FOR PRESIDENT   |  5,400  |\n",
      "|  RICE, MERIDEL        | CRUZ FOR PRESIDENT   |  5,400  |\n",
      "|  SABOL, JOHN          | HILLARY FOR AMERICA  |  5,400  |\n",
      "|  KETCHAM, SAM         | HILLARY FOR AMERICA  |  5,400  |\n",
      "|-----------------------+----------------------+---------|\n"
     ]
    }
   ],
   "source": [
    "top_pres_donors_pivot = pres_only.pivot(\n",
    "    ['Contrib', 'CmteName'], aggregation=agate.Sum('Amount')).order_by('Sum', reverse=True)\n",
    "top_pres_donors_pivot.limit(10).print_table()\n",
    "top_pres_donors_pivot.to_csv('top_pres_donors.csv')"
   ]
  },
  {
   "cell_type": "markdown",
   "metadata": {},
   "source": [
    "What were the top parties by fundraising, and how much did they get? (Save the full table to `top_parties.csv`)"
   ]
  },
  {
   "cell_type": "code",
   "execution_count": 13,
   "metadata": {
    "collapsed": false,
    "scrolled": true
   },
   "outputs": [
    {
     "name": "stdout",
     "output_type": "stream",
     "text": [
      "|-----------------------+-----------+----------|\n",
      "|  Contrib              | CmteParty |     Sum  |\n",
      "|-----------------------+-----------+----------|\n",
      "|  BALLMER, CONNIE E    |           | 250,000  |\n",
      "|                       | REP       | 212,400  |\n",
      "|  SCHWEITZER, BEATR... | REP       | 173,000  |\n",
      "|  SCHWEITZER, EDMUN... | REP       | 173,000  |\n",
      "|  SCHWEITZER, BEATR... |           | 155,000  |\n",
      "|  SCHWEITZER, III, ... |           | 150,000  |\n",
      "|  PUYALLUP TRIBE OF... | DEM       | 130,500  |\n",
      "|  KEITH, MICHAEL       | DEM       |  93,405  |\n",
      "|  CLARK, JOSEPH        | REP       |  72,000  |\n",
      "|  MUCKLESHOOT INDIA... | DEM       |  70,500  |\n",
      "|-----------------------+-----------+----------|\n"
     ]
    }
   ],
   "source": [
    "top_parties = with_cmtes.pivot(['Contrib', 'CmteParty'], aggregation=agate.Sum('Amount')).order_by('Sum', reverse=True)\n",
    "top_parties.limit(10).print_table()\n",
    "top_parties.to_csv('top_parties.csv')"
   ]
  },
  {
   "cell_type": "markdown",
   "metadata": {},
   "source": [
    "What were the largest donor-party pairs? I.e., which donors gave the most to whom? (Save the full table to `top_cmte_donors.csv`)"
   ]
  },
  {
   "cell_type": "code",
   "execution_count": 14,
   "metadata": {
    "collapsed": false
   },
   "outputs": [
    {
     "name": "stdout",
     "output_type": "stream",
     "text": [
      "|-----------------------+----------------------+-----------+----------|\n",
      "|  Contrib              | CmteName             | CmteParty |     Sum  |\n",
      "|-----------------------+----------------------+-----------+----------|\n",
      "|  BALLMER, CONNIE E    | AMERICANS FOR RES... |           | 250,000  |\n",
      "|                       | NRCC                 | REP       | 212,400  |\n",
      "|  SCHWEITZER, BEATR... | MCMORRIS RODGERS ... |           | 150,000  |\n",
      "|  SCHWEITZER, III, ... | MCMORRIS RODGERS ... |           | 150,000  |\n",
      "|  SCHWEITZER, BEATR... | NRCC                 | REP       | 139,600  |\n",
      "|  SCHWEITZER, EDMUN... | NRCC                 | REP       | 139,600  |\n",
      "|  CLARK, JOSEPH        | REPUBLICAN NATION... | REP       |  66,600  |\n",
      "|  PUYALLUP TRIBE OF... | DSCC                 | DEM       |  64,800  |\n",
      "|  MCCAW, CRAIG MR      | RIGHT TO RISE USA    |           |  50,000  |\n",
      "|  LANDON, JOSEPH MR    | RIGHT TO RISE USA    |           |  50,000  |\n",
      "|-----------------------+----------------------+-----------+----------|\n"
     ]
    }
   ],
   "source": [
    "top_cmte_donors = with_cmtes.pivot(\n",
    "    ['Contrib', 'CmteName', 'CmteParty'], aggregation=agate.Sum('Amount')).order_by('Sum', reverse=True)\n",
    "top_cmte_donors.limit(10).print_table()\n",
    "top_cmte_donors.to_csv('top_cmte_donors.csv')"
   ]
  },
  {
   "cell_type": "code",
   "execution_count": null,
   "metadata": {
    "collapsed": true
   },
   "outputs": [],
   "source": []
  }
 ],
 "metadata": {
  "kernelspec": {
   "display_name": "Python 2",
   "language": "python",
   "name": "python2"
  },
  "language_info": {
   "codemirror_mode": {
    "name": "ipython",
    "version": 2
   },
   "file_extension": ".py",
   "mimetype": "text/x-python",
   "name": "python",
   "nbconvert_exporter": "python",
   "pygments_lexer": "ipython2",
   "version": "2.7.8"
  }
 },
 "nbformat": 4,
 "nbformat_minor": 0
}
